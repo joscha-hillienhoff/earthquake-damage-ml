{
 "cells": [
  {
   "cell_type": "markdown",
   "id": "3fdf55ff-cfad-4d40-9680-28ed24108803",
   "metadata": {},
   "source": [
    "# Goal & setup\n",
    "**Goal:** Load data, check quality, inspect distributions/outliers, and persist clean artifacts (interim data + plots)."
   ]
  },
  {
   "cell_type": "markdown",
   "id": "b3f7753f",
   "metadata": {},
   "source": [
    "# 0. Kernel & imports"
   ]
  },
  {
   "cell_type": "code",
   "execution_count": null,
   "id": "35175109",
   "metadata": {},
   "outputs": [],
   "source": [
    "%matplotlib inline\n",
    "from pathlib import Path\n",
    "\n",
    "import numpy as np\n",
    "import pandas as pd\n",
    "import matplotlib.pyplot as plt\n",
    "import seaborn as sns\n",
    "from sklearn.preprocessing import MinMaxScaler\n",
    "\n",
    "\n",
    "# project helpers\n",
    "from config import RAW_DATA_DIR, INTERIM_DATA_DIR  # keep your current layout\n",
    "from dataset import (\n",
    "    load_competition_raw,\n",
    "    load_original_raw,\n",
    "    build_competition_tables,\n",
    "    build_original_table\n",
    ")\n",
    "\n",
    "# style / display\n",
    "sns.set(style=\"whitegrid\")\n",
    "pd.set_option(\"display.max_columns\", 120)\n",
    "\n",
    "# Define figure output directory (relative to project root)\n",
    "FIG_DIR = Path(\"../reports/figures\")\n",
    "FIG_DIR.mkdir(parents=True, exist_ok=True)\n"
   ]
  },
  {
   "cell_type": "markdown",
   "id": "1bef8698",
   "metadata": {},
   "source": [
    "# 1. Load datasets"
   ]
  },
  {
   "cell_type": "code",
   "execution_count": null,
   "id": "f324813d",
   "metadata": {},
   "outputs": [],
   "source": [
    "# Competition (train/test/labels)\n",
    "df_comp_train, df_comp_labels, df_comp_test = load_competition_raw(RAW_DATA_DIR)\n",
    "\n",
    "# Original auxiliary tables (optional for cross-checking or enrichment)\n",
    "df_og_damage, df_og_struct, df_og_owner = load_original_raw(RAW_DATA_DIR)\n",
    "\n",
    "# Merge train + labels to one analysis table. Keep test set as it is.\n",
    "df_comp, df_comp_test = build_competition_tables(df_comp_train, df_comp_labels, df_comp_test)\n",
    "\n",
    "# Build merged original dataset\n",
    "df_og = build_original_table(df_og_struct, df_og_owner)\n",
    "\n",
    "df_comp.head()"
   ]
  },
  {
   "cell_type": "markdown",
   "id": "f56e5de3",
   "metadata": {},
   "source": [
    "# 3. Compare columns of original and competition datasets"
   ]
  },
  {
   "cell_type": "markdown",
   "id": "867d38e3",
   "metadata": {},
   "source": [
    "### 3.1 Column overview"
   ]
  },
  {
   "cell_type": "code",
   "execution_count": null,
   "id": "dc6792b3",
   "metadata": {},
   "outputs": [],
   "source": [
    "print(\"Original dataset – columns:\")\n",
    "print(df_og.columns.tolist())\n",
    "print(\"\\nCompetition dataset – columns:\")\n",
    "print(df_comp_train.columns.tolist())"
   ]
  },
  {
   "cell_type": "markdown",
   "id": "24bca9e7",
   "metadata": {},
   "source": [
    "### 3.2 Preview of the first rows\n"
   ]
  },
  {
   "cell_type": "code",
   "execution_count": null,
   "id": "7c4f8167",
   "metadata": {},
   "outputs": [],
   "source": [
    "print(\"\\nPreview of original data:\")\n",
    "display(df_og.head())\n",
    "\n",
    "print(\"\\nPreview of competition data (train):\")\n",
    "display(df_comp_train.head())"
   ]
  },
  {
   "cell_type": "markdown",
   "id": "e71f84fe",
   "metadata": {},
   "source": [
    "### 3.3 Column comparison\n"
   ]
  },
  {
   "cell_type": "code",
   "execution_count": null,
   "id": "267d797f",
   "metadata": {},
   "outputs": [],
   "source": [
    "original_columns = set(df_og.columns)\n",
    "competition_columns = set(df_comp_train.columns)\n",
    "\n",
    "missing_in_competition = original_columns - competition_columns\n",
    "missing_in_original = competition_columns - original_columns\n",
    "\n",
    "print(\"\\nColumns only in the original dataset:\")\n",
    "print(sorted(missing_in_competition) if missing_in_competition else \"None\")\n",
    "\n",
    "print(\"\\nColumns only in the competition dataset:\")\n",
    "print(sorted(missing_in_original) if missing_in_original else \"None\")"
   ]
  },
  {
   "cell_type": "markdown",
   "id": "23a19711",
   "metadata": {},
   "source": [
    "### 3.4 Dataset shape comparison"
   ]
  },
  {
   "cell_type": "code",
   "execution_count": null,
   "id": "167e1c8b",
   "metadata": {},
   "outputs": [],
   "source": [
    "\n",
    "print(\"\\nDataset shapes:\")\n",
    "print(f\"Original: {df_og.shape[0]} rows, {df_og.shape[1]} columns\")\n",
    "print(f\"Competition (train): {df_comp_train.shape[0]} rows, {df_comp_train.shape[1]} columns\")\n",
    "print(f\"Competition (test): {df_comp_test.shape[0]} rows, {df_comp_test.shape[1]} columns\")"
   ]
  },
  {
   "cell_type": "markdown",
   "id": "9536e191",
   "metadata": {},
   "source": [
    "# 4. Check for Missing Values\n"
   ]
  },
  {
   "cell_type": "code",
   "execution_count": null,
   "id": "5668b229",
   "metadata": {},
   "outputs": [],
   "source": [
    "def check_missing_values(df: pd.DataFrame, name: str) -> pd.Series:\n",
    "    \"\"\"\n",
    "    Display the number of missing values per column for a given DataFrame.\n",
    "    \n",
    "    Args:\n",
    "        df (pd.DataFrame): Dataset to check.\n",
    "        name (str): Name of the dataset (for labeling).\n",
    "    \"\"\"\n",
    "    missing = df.isnull().sum()\n",
    "    missing = missing[missing > 0].sort_values(ascending=False)\n",
    "    \n",
    "    if missing.empty:\n",
    "        print(f\"No missing values found in {name}.\")\n",
    "    else:\n",
    "        print(f\"Missing values in {name}:\")\n",
    "        display(missing)\n"
   ]
  },
  {
   "cell_type": "code",
   "execution_count": null,
   "id": "7c19d1f4",
   "metadata": {},
   "outputs": [],
   "source": [
    "# Check both datasets\n",
    "check_missing_values(df_og, \"Original dataset\")\n",
    "check_missing_values(df_comp_train, \"Competition train dataset\")"
   ]
  },
  {
   "cell_type": "markdown",
   "id": "73a56fde",
   "metadata": {},
   "source": [
    "# 5. Check for Duplicates"
   ]
  },
  {
   "cell_type": "markdown",
   "id": "943d63fe",
   "metadata": {},
   "source": [
    "### 5.1 Competition dataset"
   ]
  },
  {
   "cell_type": "code",
   "execution_count": null,
   "id": "549b3c5e",
   "metadata": {},
   "outputs": [],
   "source": [
    "# Check for duplicates\n",
    "print(\"Before:\", df_comp_train.shape)\n",
    "print(\"Number of duplicates:\", df_comp_train.duplicated().sum())\n",
    "\n",
    "# Remove duplicates\n",
    "df_comp_train = df_comp_train.drop_duplicates()\n",
    "\n",
    "print(\"After:\", df_comp_train.shape)"
   ]
  },
  {
   "cell_type": "markdown",
   "id": "ffe03113",
   "metadata": {},
   "source": [
    "### 5.2 Original Dataset"
   ]
  },
  {
   "cell_type": "code",
   "execution_count": null,
   "id": "9e46c784",
   "metadata": {},
   "outputs": [],
   "source": [
    "# Check for duplicates\n",
    "print(\"Before:\", df_og.shape)\n",
    "print(\"Number of duplicates:\", df_og.duplicated().sum())\n",
    "\n",
    "# Remove duplicates\n",
    "df_og = df_og.drop_duplicates()\n",
    "\n",
    "print(\"After:\", df_og.shape)"
   ]
  },
  {
   "cell_type": "markdown",
   "id": "87421454-6137-4fd5-87b4-7267333e4cd2",
   "metadata": {},
   "source": [
    "# 6. Outlier Check"
   ]
  },
  {
   "cell_type": "markdown",
   "id": "81bcdbae",
   "metadata": {},
   "source": [
    "### 6.1 Check outliers in numeric features"
   ]
  },
  {
   "cell_type": "code",
   "execution_count": null,
   "id": "2a2f972a-ac6b-4bd3-aa1a-b51e161443cb",
   "metadata": {},
   "outputs": [],
   "source": [
    "# Select numeric columns\n",
    "numeric_columns = [\n",
    "    \"geo_level_1_id\",\n",
    "    \"geo_level_2_id\",\n",
    "    \"geo_level_3_id\",\n",
    "    \"age\",\n",
    "    \"area_percentage\",\n",
    "    \"height_percentage\",\n",
    "    \"count_floors_pre_eq\",\n",
    "    \"count_families\",\n",
    "]\n",
    "\n",
    "# Normalize numeric data\n",
    "scaler = MinMaxScaler()\n",
    "df_normalized = pd.DataFrame(\n",
    "    scaler.fit_transform(df_comp_train[numeric_columns]),\n",
    "    columns=numeric_columns\n",
    ")\n",
    "\n",
    "# Plot boxplot\n",
    "sns.set(style=\"whitegrid\")\n",
    "plt.figure(figsize=(14, 6))\n",
    "sns.boxplot(data=df_normalized, orient=\"h\")\n",
    "plt.title(\"Normalized Numeric Attributes — Outlier Check\", fontsize=14)\n",
    "plt.xlabel(\"Normalized Value\")\n",
    "plt.ylabel(\"Features\")\n",
    "plt.tight_layout()\n",
    "\n",
    "# Save figure\n",
    "fig_path = FIG_DIR / \"boxplot_numeric_features.png\"\n",
    "plt.savefig(fig_path, dpi=300)\n",
    "plt.show()\n"
   ]
  },
  {
   "cell_type": "markdown",
   "id": "ec2faadd",
   "metadata": {},
   "source": [
    "### 6.2 Check outliers in specific columns"
   ]
  },
  {
   "cell_type": "code",
   "execution_count": null,
   "id": "ee4c3bea",
   "metadata": {},
   "outputs": [],
   "source": [
    "df_comp_train[\"age\"].plot(kind = \"box\", title = \"Age of Building\")\n",
    "# Save figure\n",
    "fig_path = FIG_DIR / \"boxplot_age.png\"\n",
    "plt.savefig(fig_path, dpi=300)\n",
    "plt.show\n",
    "# df_comp_train[\"geo_level_1_id\"].plot(kind = \"box\", title = \"geo_level_1_id\")\n",
    "# plt.show\n",
    "# df_comp_train[\"geo_level_2_id\"].plot(kind = \"box\", title = \"geo_level_2_id\")\n",
    "# plt.show\n",
    "# df_comp_train[\"geo_level_3_id\"].plot(kind = \"box\", title = \"geo_level_3_id\")\n",
    "# plt.show\n",
    "# df_comp_train[\"count_floors_pre_eq\"].plot(kind = \"box\", title = \"Etagenanzahl\")\n",
    "# plt.show\n",
    "# df_comp_train[\"area_percentage\"].plot(kind = \"box\", title = \"Grundfläche\")\n",
    "# plt.show\n",
    "# df_comp_train[\"height_percentage\"].plot(kind = \"box\", title = \"Höhe\")\n",
    "# plt.show"
   ]
  },
  {
   "cell_type": "markdown",
   "id": "30b97486",
   "metadata": {},
   "source": [
    "### 6.3 Check outliers in age column"
   ]
  },
  {
   "cell_type": "code",
   "execution_count": null,
   "id": "c9fdabaf",
   "metadata": {},
   "outputs": [],
   "source": [
    "# Calculate mean and standard deviation\n",
    "mean_age = df_comp_train[\"age\"].mean()\n",
    "std_age = df_comp_train[\"age\"].std()\n",
    "\n",
    "# Define outlier threshold (e.g., mean + 3*std)\n",
    "outlier_threshold = mean_age + 3 * std_age\n",
    "\n",
    "# Identify outliers\n",
    "outliers = df_comp_train[df_comp_train[\"age\"] > outlier_threshold]\n",
    "\n",
    "# Plot the data with outliers highlighted\n",
    "plt.figure(figsize=(10, 6))\n",
    "plt.scatter(df_comp_train.index, df_comp_train[\"age\"], label=\"Data\", alpha=0.6)\n",
    "plt.scatter(outliers.index, outliers[\"age\"], color=\"r\", label=\"Outliers\", alpha=0.8)\n",
    "plt.axhline(y=outlier_threshold, color=\"g\", linestyle=\"--\", label=\"Outlier threshold\")\n",
    "plt.title(\"Outlier Detection — Age\", fontsize=14)\n",
    "plt.xlabel(\"Index\")\n",
    "plt.ylabel(\"Building Age\")\n",
    "plt.legend()\n",
    "plt.tight_layout()\n",
    "\n",
    "# Save figure\n",
    "fig_path = FIG_DIR / \"outlier_age.png\"\n",
    "plt.savefig(fig_path, dpi=300)\n",
    "plt.show()"
   ]
  },
  {
   "cell_type": "code",
   "execution_count": null,
   "id": "348706d9",
   "metadata": {},
   "outputs": [],
   "source": [
    "# Check for extreme values (e.g., 995 years)\n",
    "extreme_value = 995\n",
    "extreme_cases = df_comp_train[df_comp_train[\"age\"] >= extreme_value]\n",
    "\n",
    "# Print results\n",
    "print(f\"Number of outliers above {outlier_threshold:.2f}: {len(outliers)}\")\n",
    "print(f\"Number of extreme values (>= {extreme_value}): {len(extreme_cases)}\")\n",
    "extreme_cases.head()"
   ]
  },
  {
   "cell_type": "markdown",
   "id": "5633a579-2bd1-4d37-998a-c6a2c910fdf3",
   "metadata": {},
   "source": [
    "# 7. Descriptive Statistics"
   ]
  },
  {
   "cell_type": "code",
   "execution_count": null,
   "id": "a9edfbfe-c663-402b-8b06-5aedd5caefc7",
   "metadata": {},
   "outputs": [],
   "source": [
    "df_comp_train.describe()"
   ]
  },
  {
   "cell_type": "markdown",
   "id": "700a07f9-e98a-4c6b-99dc-a8ef781316e2",
   "metadata": {},
   "source": [
    "# 8. Histogram of features"
   ]
  },
  {
   "cell_type": "code",
   "execution_count": null,
   "id": "7c9d8143-d3c3-40b0-b476-10bbbfa7ba1c",
   "metadata": {},
   "outputs": [],
   "source": [
    "df_comp_train.hist(figsize=(24, 16), bins=20)\n",
    "\n",
    "# Save figure\n",
    "fig_path = FIG_DIR / \"histogram_features.png\"\n",
    "plt.savefig(fig_path, dpi=300)\n",
    "plt.show()\n"
   ]
  },
  {
   "cell_type": "markdown",
   "id": "9391c470-e202-4ebf-9d31-e3c5f85a3e83",
   "metadata": {},
   "source": [
    "# 9. Correlation matrix of numeric features"
   ]
  },
  {
   "cell_type": "code",
   "execution_count": null,
   "id": "83cca3e5",
   "metadata": {},
   "outputs": [],
   "source": [
    "# Select numeric columns only\n",
    "numeric_columns = df_comp_train.select_dtypes(include=[\"float64\", \"int64\"]).columns\n",
    "\n",
    "# Compute correlation matrix\n",
    "corr_matrix = df_comp_train[numeric_columns].corr()\n",
    "\n",
    "# Plot heatmap\n",
    "plt.figure(figsize=(18, 14))\n",
    "sns.heatmap(\n",
    "    corr_matrix,\n",
    "    annot=True,\n",
    "    cmap=\"coolwarm\",\n",
    "    fmt=\".2f\",\n",
    "    linewidths=0.5,\n",
    "    cbar_kws={\"shrink\": 0.8}\n",
    ")\n",
    "plt.title(\"Correlation Matrix — Numeric Features\", fontsize=16, pad=15)\n",
    "plt.xticks(rotation=45, ha=\"right\")\n",
    "plt.yticks(rotation=0)\n",
    "plt.tight_layout()\n",
    "\n",
    "# Save figure\n",
    "fig_path = FIG_DIR / \"correlation_matrix.png\"\n",
    "plt.savefig(fig_path, dpi=300)\n",
    "plt.show()\n"
   ]
  },
  {
   "cell_type": "markdown",
   "id": "bc1b6505",
   "metadata": {},
   "source": [
    "# 10. Distribution of target variable"
   ]
  },
  {
   "cell_type": "code",
   "execution_count": null,
   "id": "5386af73",
   "metadata": {},
   "outputs": [],
   "source": [
    "# Prepare data: count frequencies of each damage grade\n",
    "df_damage_count = (\n",
    "    df_comp_labels[\"damage_grade\"]\n",
    "    .value_counts()\n",
    "    .sort_index()\n",
    "    .reset_index()\n",
    ")\n",
    "df_damage_count.columns = [\"damage_grade\", \"count\"]\n",
    "print(df_damage_count)\n",
    "\n",
    "# Plot bar chart\n",
    "plt.figure(figsize=(8, 5))\n",
    "sns.barplot(\n",
    "    x=\"damage_grade\",\n",
    "    hue=\"damage_grade\",\n",
    "    legend=False,\n",
    "    y=\"count\",\n",
    "    data=df_damage_count,\n",
    "    palette=\"Blues_d\"\n",
    ")\n",
    "\n",
    "# Add title and labels\n",
    "plt.title(\"Distribution of Damage Grades\", fontsize=14, pad=10)\n",
    "plt.xlabel(\"Damage Grade\")\n",
    "plt.ylabel(\"Count\")\n",
    "plt.tight_layout()\n",
    "\n",
    "# Save figure\n",
    "fig_path = FIG_DIR / \"dist_target_var.png\"\n",
    "plt.savefig(fig_path, dpi=300)\n",
    "plt.show()"
   ]
  },
  {
   "cell_type": "markdown",
   "id": "7a98af6c",
   "metadata": {},
   "source": [
    "# 11. Unique values for each colum\n"
   ]
  },
  {
   "cell_type": "code",
   "execution_count": null,
   "id": "39753811",
   "metadata": {},
   "outputs": [],
   "source": [
    "def unique_values_per_attribute(df: pd.DataFrame, max_values: int = 10) -> dict:\n",
    "    \"\"\"\n",
    "    Get unique values for each column in a DataFrame (truncated for readability).\n",
    "\n",
    "    Args:\n",
    "        df (pd.DataFrame): Input DataFrame.\n",
    "        max_values (int): Maximum number of values to display per column.\n",
    "\n",
    "    Returns:\n",
    "        dict: Dictionary mapping column names to their unique values (or a preview of them).\n",
    "    \"\"\"\n",
    "    unique_dict = {}\n",
    "    for col in df.columns:\n",
    "        values = df[col].unique()\n",
    "        # Truncate long value lists for cleaner output\n",
    "        if len(values) > max_values:\n",
    "            preview = values[:max_values]\n",
    "            unique_dict[col] = f\"{preview} ... ({len(values)} unique values)\"\n",
    "        else:\n",
    "            unique_dict[col] = values\n",
    "    return unique_dict\n",
    "\n",
    "# Example usage\n",
    "unique_values = unique_values_per_attribute(df_comp_train)\n",
    "\n",
    "# Print results\n",
    "for col, vals in unique_values.items():\n",
    "    print(f\"{col}: {vals}\")"
   ]
  }
 ],
 "metadata": {
  "kernelspec": {
   "display_name": "earthquake-damage-ml-py3.11",
   "language": "python",
   "name": "python3"
  },
  "language_info": {
   "codemirror_mode": {
    "name": "ipython",
    "version": 3
   },
   "file_extension": ".py",
   "mimetype": "text/x-python",
   "name": "python",
   "nbconvert_exporter": "python",
   "pygments_lexer": "ipython3",
   "version": "3.11.5"
  }
 },
 "nbformat": 4,
 "nbformat_minor": 5
}
