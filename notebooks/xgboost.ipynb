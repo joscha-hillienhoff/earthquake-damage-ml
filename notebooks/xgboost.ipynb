{
 "cells": [
  {
   "cell_type": "markdown",
   "id": "bb4cf9bd",
   "metadata": {},
   "source": [
    "# 0. Imports"
   ]
  },
  {
   "cell_type": "code",
   "execution_count": null,
   "id": "a1a9f057",
   "metadata": {},
   "outputs": [],
   "source": [
    "# --- Notebook plotting ---\n",
    "%matplotlib inline\n",
    "\n",
    "# --- Standard library ---\n",
    "from pathlib import Path\n",
    "\n",
    "# --- Third-party libraries ---\n",
    "import dagshub\n",
    "import joblib\n",
    "import matplotlib.pyplot as plt\n",
    "import mlflow\n",
    "import mlflow.sklearn\n",
    "import numpy as np\n",
    "import pandas as pd\n",
    "import seaborn as sns\n",
    "\n",
    "from imblearn.over_sampling import SMOTE\n",
    "from skopt import BayesSearchCV\n",
    "from skopt.plots import plot_objective, plot_histogram\n",
    "from skopt.space import Real, Categorical, Integer\n",
    "\n",
    "from sklearn.ensemble import RandomForestClassifier\n",
    "from sklearn.metrics import f1_score, confusion_matrix, make_scorer\n",
    "from sklearn.model_selection import train_test_split, GridSearchCV, RandomizedSearchCV\n",
    "from sklearn.pipeline import make_pipeline\n",
    "from sklearn.preprocessing import StandardScaler\n",
    "from xgboost import XGBClassifier\n",
    "\n",
    "from scipy.stats import randint\n",
    "\n",
    "import io\n",
    "\n",
    "# --- Project-specific imports ---\n",
    "from src import dataset, preprocess\n",
    "from src.config import RAW_DATA_DIR, INTERIM_DATA_DIR\n",
    "from src.modeling import train, predict\n",
    "\n",
    "# --- MLflow / DagsHub init ---\n",
    "dagshub.init(repo_owner=\"joscha0610\", repo_name=\"earthquake-damage-ml\", mlflow=True)\n",
    "from mlflow.tracking import MlflowClient\n",
    "\n",
    "# --- Figure output directory ---\n",
    "FIG_DIR = Path(\"../reports/figures\")\n",
    "FIG_DIR.mkdir(parents=True, exist_ok=True)\n"
   ]
  },
  {
   "cell_type": "markdown",
   "id": "426c9ff1",
   "metadata": {},
   "source": [
    "# 1. Load Data"
   ]
  },
  {
   "cell_type": "code",
   "execution_count": null,
   "id": "08c32f59",
   "metadata": {},
   "outputs": [],
   "source": [
    "# Competition (train/test/labels)\n",
    "X, y, test = dataset.load_competition_raw(RAW_DATA_DIR)"
   ]
  },
  {
   "cell_type": "markdown",
   "id": "f28efb24",
   "metadata": {},
   "source": [
    "# 2. Preprocess data"
   ]
  },
  {
   "cell_type": "markdown",
   "id": "7b54380f",
   "metadata": {},
   "source": [
    "### 2.1 One-Hot-Encoding"
   ]
  },
  {
   "cell_type": "code",
   "execution_count": null,
   "id": "76edfd25",
   "metadata": {},
   "outputs": [],
   "source": [
    "X = preprocess.one_hot_encode(X)"
   ]
  },
  {
   "cell_type": "markdown",
   "id": "231bbeaa",
   "metadata": {},
   "source": [
    "### 2.2 Train Test Split\n",
    "Split data in 80% trainings data and 20% validation data"
   ]
  },
  {
   "cell_type": "code",
   "execution_count": null,
   "id": "09fd7047",
   "metadata": {},
   "outputs": [],
   "source": [
    "X_train, X_val, y_train, y_val = preprocess.split_train_val(X, y, test_size=0.2, random_state=42)"
   ]
  },
  {
   "cell_type": "markdown",
   "id": "49a4fb05",
   "metadata": {},
   "source": [
    "### 2.3 Label encoding (1,2,3 -> 0,1,2)"
   ]
  },
  {
   "cell_type": "code",
   "execution_count": null,
   "id": "ea267ee3",
   "metadata": {},
   "outputs": [],
   "source": [
    "y_train[\"damage_grade\"] = y_train[\"damage_grade\"] - 1\n",
    "y_val[\"damage_grade\"] = y_val[\"damage_grade\"] - 1"
   ]
  },
  {
   "cell_type": "markdown",
   "id": "1dbef2cb",
   "metadata": {},
   "source": [
    "# 3. Create Pipeline"
   ]
  },
  {
   "cell_type": "code",
   "execution_count": null,
   "id": "907f6418",
   "metadata": {},
   "outputs": [],
   "source": [
    "pipe = train.build_xgboost_pipeline()"
   ]
  },
  {
   "cell_type": "markdown",
   "id": "55396298",
   "metadata": {},
   "source": [
    "# 4. Sequential Model-Based Optimization (SMBO)"
   ]
  },
  {
   "cell_type": "markdown",
   "id": "5890d8dc",
   "metadata": {},
   "source": [
    "### 4.1 Define search space"
   ]
  },
  {
   "cell_type": "code",
   "execution_count": null,
   "id": "69f3a83a",
   "metadata": {},
   "outputs": [],
   "source": [
    "# search_space = {\n",
    "#     'xgbclassifier__learning_rate': Real(0.01, 0.3, prior='log-uniform'),  # Lernrate für die Aktualisierung der Gewichte nach jedem Baum\n",
    "#     'xgbclassifier__n_estimators': Integer(100, 500),  # Anzahl der Bäume im Modell\n",
    "#     'xgbclassifier__max_depth': Integer(3, 10),  # Maximale Tiefe jedes Baumes\n",
    "#     }\n",
    "search_space = {\n",
    "    'xgbclassifier__learning_rate': Real(0.01, 0.3, prior='log-uniform'),  # Lernrate für die Aktualisierung der Gewichte nach jedem Baum\n",
    "    'xgbclassifier__n_estimators': Integer(1, 10),  # Anzahl der Bäume im Modell\n",
    "    'xgbclassifier__max_depth': Integer(3, 5),  # Maximale Tiefe jedes Baumes\n",
    "    }"
   ]
  },
  {
   "cell_type": "markdown",
   "id": "d7affd41",
   "metadata": {},
   "source": [
    "### 4.2 Tune parameters"
   ]
  },
  {
   "cell_type": "code",
   "execution_count": null,
   "id": "ce65ecb9",
   "metadata": {},
   "outputs": [],
   "source": [
    "mlflow.set_experiment(\"xgb-bayessearch\")\n",
    "\n",
    "# ---- Bayesian hyperparameter search ---------------------------------------\n",
    "opt = BayesSearchCV(\n",
    "    estimator=pipe,\n",
    "    search_spaces=search_space,\n",
    "    n_iter=32,\n",
    "    cv=3,\n",
    "    scoring=make_scorer(f1_score, average=\"micro\"),\n",
    "    random_state=123\n",
    ")\n",
    "\n",
    "with mlflow.start_run(run_name=\"bayes_xgb\"):\n",
    "    # Fit\n",
    "    np.int = int  # workaround for older skopt behavior\n",
    "    opt.fit(X_train, y_train[\"damage_grade\"].values.ravel())\n",
    "\n",
    "    # ---- Metrics ----\n",
    "    best_cv = float(opt.best_score_)\n",
    "    val_f1 = float(opt.score(X_val, y_val[\"damage_grade\"].values.ravel()))\n",
    "    mlflow.log_metric(\"best_cv_f1_micro\", best_cv)\n",
    "    mlflow.log_metric(\"val_f1_micro\", test_f1)\n",
    "\n",
    "    # Log search space for reproducibility\n",
    "    mlflow.log_dict(search_space, \"search_space.json\")\n",
    "\n",
    "    # ---- Best parameters ----\n",
    "    mlflow.log_params(opt.best_params_)\n",
    "\n",
    "    # ---- Full CV results as artifact ----\n",
    "    if hasattr(opt, \"cv_results_\"):\n",
    "        df = pd.DataFrame(opt.cv_results_)\n",
    "        buffer = io.StringIO()\n",
    "        df.to_csv(buffer, index=False)\n",
    "        mlflow.log_text(buffer.getvalue(), artifact_file=\"cv_results_bayes.csv\")\n",
    "\n",
    "    # ---- Log best model explicitly ----\n",
    "    best_est = opt.best_estimator_\n",
    "\n",
    "    mlflow.sklearn.log_model(\n",
    "        sk_model=best_est,\n",
    "        artifact_path=\"sklearn-model-best\",\n",
    "        input_example=(X_train.iloc[:5] if hasattr(X_train, \"iloc\") else X_train[:5]),\n",
    "        registered_model_name=\"xgb_bayessearch\"\n",
    "    )\n",
    "\n",
    "# ---- Print summary ----\n",
    "print(f\"Best CV score: {best_cv:.4f}\")\n",
    "print(f\"Validation score: {val_f1:.4f}\")\n",
    "print(\"Best parameters:\", opt.best_params_)"
   ]
  },
  {
   "cell_type": "markdown",
   "id": "fa1c2c8c",
   "metadata": {},
   "source": [
    "# 5. Plot the optimizer process"
   ]
  },
  {
   "cell_type": "code",
   "execution_count": null,
   "id": "77cb55b9",
   "metadata": {},
   "outputs": [],
   "source": [
    "from skopt.plots import plot_objective\n",
    "_ = plot_objective(opt.optimizer_results_[0],\n",
    "                   dimensions=[\"learning_rate\", \"n_estimators\", \"max_depth\"])\n",
    "\n",
    "# Save figure\n",
    "fig_path = FIG_DIR / \"xgb_bayesian_optimization.png\"\n",
    "plt.savefig(fig_path, dpi=300)\n",
    "plt.show()"
   ]
  },
  {
   "cell_type": "markdown",
   "id": "cc61d7a4",
   "metadata": {},
   "source": [
    "# 6. Make predictions"
   ]
  },
  {
   "cell_type": "code",
   "execution_count": null,
   "id": "c11818a0",
   "metadata": {},
   "outputs": [],
   "source": [
    "val_preds = opt.predict(X_val)"
   ]
  },
  {
   "cell_type": "markdown",
   "id": "d14794c6",
   "metadata": {},
   "source": [
    "# 7. Feature Importance"
   ]
  },
  {
   "cell_type": "code",
   "execution_count": null,
   "id": "f3dd7bf8",
   "metadata": {},
   "outputs": [],
   "source": [
    "# Feature importance\n",
    "importances = opt.best_estimator_.named_steps['xgbclassifier'].feature_importances_\n",
    "features_df = pd.DataFrame({\n",
    "    'Feature': X_train.columns,\n",
    "    'Importance': importances\n",
    "})\n",
    "\n",
    "# Sort features by importance\n",
    "features_df = features_df.sort_values('Importance', ascending=False)\n",
    "\n",
    "# Create horizontal bar plot\n",
    "plt.figure(figsize=(15, 20))\n",
    "plt.barh(features_df['Feature'], features_df['Importance'], color='skyblue')\n",
    "plt.xlabel('Importance')\n",
    "plt.ylabel('Feature')\n",
    "plt.title('Feature Importances')\n",
    "plt.gca().invert_yaxis()  # show most important features at the top\n",
    "\n",
    "# Save figure\n",
    "fig_path = FIG_DIR / \"xgb_feature_importance.png\"\n",
    "plt.savefig(fig_path, dpi=300)\n",
    "plt.show()\n"
   ]
  },
  {
   "cell_type": "markdown",
   "id": "f71d1b7d",
   "metadata": {},
   "source": [
    "# 8. Confusion matrix"
   ]
  },
  {
   "cell_type": "code",
   "execution_count": null,
   "id": "ef0cb68f",
   "metadata": {},
   "outputs": [],
   "source": [
    "cm = confusion_matrix(y_val[\"damage_grade\"].values.ravel(), val_preds)\n",
    "sns.heatmap(cm, annot=True, fmt=\"d\", xticklabels=[1, 2, 3], yticklabels=[1, 2, 3])\n",
    "plt.xlabel('Predicted Labels')\n",
    "plt.ylabel('True Labels')\n",
    "plt.title('Confusion matrix XGBoost')\n",
    "\n",
    "# Save figure\n",
    "fig_path = FIG_DIR / \"xgb_confusion_matrix.png\"\n",
    "plt.savefig(fig_path, dpi=300)\n",
    "plt.show()"
   ]
  },
  {
   "cell_type": "markdown",
   "id": "5f6f6f54",
   "metadata": {},
   "source": [
    "# 9. Create submission"
   ]
  },
  {
   "cell_type": "code",
   "execution_count": null,
   "id": "bc284cd2",
   "metadata": {},
   "outputs": [],
   "source": [
    "model_uri = \"models:/xgb_bayessearch/1\"\n",
    "model = mlflow.sklearn.load_model(model_uri)\n",
    "test_values_path = \"../data/raw/competition/test_values.csv\"\n",
    "output_path = \"../models/submission_xgb_test.csv\"\n",
    "\n",
    "predict.create_submission(model=model, test_values_path=test_values_path, output_path=output_path)"
   ]
  }
 ],
 "metadata": {
  "kernelspec": {
   "display_name": "earthquake-damage-ml-py3.11",
   "language": "python",
   "name": "python3"
  },
  "language_info": {
   "codemirror_mode": {
    "name": "ipython",
    "version": 3
   },
   "file_extension": ".py",
   "mimetype": "text/x-python",
   "name": "python",
   "nbconvert_exporter": "python",
   "pygments_lexer": "ipython3",
   "version": "3.11.5"
  }
 },
 "nbformat": 4,
 "nbformat_minor": 5
}
